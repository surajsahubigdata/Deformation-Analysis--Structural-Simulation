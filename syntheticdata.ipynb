{
 "cells": [
  {
   "cell_type": "code",
   "execution_count": 1,
   "metadata": {},
   "outputs": [],
   "source": [
    "## Synthetic Data Generation"
   ]
  },
  {
   "cell_type": "code",
   "execution_count": 3,
   "metadata": {},
   "outputs": [
    {
     "name": "stdout",
     "output_type": "stream",
     "text": [
      "Synthetic data saved to deformation_simulation_data.csv\n"
     ]
    }
   ],
   "source": [
    "import numpy as np\n",
    "import pandas as pd\n",
    "\n",
    "# Set random seed for reproducibility\n",
    "np.random.seed(42)\n",
    "\n",
    "# Define number of samples\n",
    "num_samples = 1000\n",
    "\n",
    "# Generate synthetic data\n",
    "data = {\n",
    "    \"Load\": np.random.uniform(100, 10000, num_samples),  # Load between 100 and 10000 Newtons\n",
    "    \"Material Density\": np.random.uniform(1000, 8000, num_samples),  # Density between 1000 and 8000 kg/m³\n",
    "    \"Young's Modulus\": np.random.uniform(50, 300, num_samples),  # Young's modulus between 50 and 300 GPa\n",
    "    \"Length\": np.random.uniform(0.1, 10, num_samples),  # Length between 0.1 and 10 meters\n",
    "    \"Width\": np.random.uniform(0.1, 5, num_samples),  # Width between 0.1 and 5 meters\n",
    "    \"Height\": np.random.uniform(0.1, 5, num_samples)  # Height between 0.1 and 5 meters\n",
    "}\n",
    "\n",
    "# Convert dictionary to DataFrame\n",
    "df = pd.DataFrame(data)\n",
    "\n",
    "# Define a synthetic relationship for deformation\n",
    "# We'll create deformation as a function of the features, adding some random noise\n",
    "df[\"Deformation\"] = (\n",
    "    (df[\"Load\"] / (df[\"Material Density\"] * df[\"Young's Modulus\"])) * \n",
    "    (df[\"Length\"] * df[\"Width\"] * df[\"Height\"]) \n",
    "    + np.random.normal(0, 0.05, num_samples)  # Small random noise\n",
    ") * 1e-3  # Scale to make the deformation values more realistic\n",
    "\n",
    "# Save the DataFrame to CSV\n",
    "df.to_csv(\"deformation_simulation_data.csv\", index=False)\n",
    "\n",
    "print(\"Synthetic data saved to deformation_simulation_data.csv\")\n"
   ]
  }
 ],
 "metadata": {
  "kernelspec": {
   "display_name": "Python 3",
   "language": "python",
   "name": "python3"
  },
  "language_info": {
   "codemirror_mode": {
    "name": "ipython",
    "version": 3
   },
   "file_extension": ".py",
   "mimetype": "text/x-python",
   "name": "python",
   "nbconvert_exporter": "python",
   "pygments_lexer": "ipython3",
   "version": "3.10.0"
  }
 },
 "nbformat": 4,
 "nbformat_minor": 2
}
